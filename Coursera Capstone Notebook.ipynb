{
    "nbformat_minor": 1, 
    "cells": [
        {
            "source": "# This notebook will mainly be used for the capstone project", 
            "cell_type": "markdown", 
            "metadata": {
                "collapsed": true
            }
        }, 
        {
            "source": "import pandas as pd\nimport numpy as np", 
            "cell_type": "code", 
            "metadata": {}, 
            "outputs": [], 
            "execution_count": 1
        }, 
        {
            "source": "print('Hello Capstone Project Course!')", 
            "cell_type": "code", 
            "metadata": {}, 
            "outputs": [
                {
                    "output_type": "stream", 
                    "name": "stdout", 
                    "text": "Hello Capstone Project Course!\n"
                }
            ], 
            "execution_count": 4
        }, 
        {
            "source": "[Link to Segmenting and Clustering Neighborhoods in Toronto Notebook](https://dataplatform.cloud.ibm.com/analytics/notebooks/v2/5457cf12-d6f7-46af-b2fe-628f35190f8a/view?access_token=396ba94489ac0b4a6f82e2b6d3cf7ed5ed3d2442e6227ce0868ca032c7baaf45 \"Link to Segmenting and Clustering Neighborhoods in Toronto\")", 
            "cell_type": "markdown", 
            "metadata": {}
        }
    ], 
    "metadata": {
        "kernelspec": {
            "display_name": "Python 3.6", 
            "name": "python3", 
            "language": "python"
        }, 
        "language_info": {
            "mimetype": "text/x-python", 
            "nbconvert_exporter": "python", 
            "version": "3.6.8", 
            "name": "python", 
            "pygments_lexer": "ipython3", 
            "file_extension": ".py", 
            "codemirror_mode": {
                "version": 3, 
                "name": "ipython"
            }
        }
    }, 
    "nbformat": 4
}