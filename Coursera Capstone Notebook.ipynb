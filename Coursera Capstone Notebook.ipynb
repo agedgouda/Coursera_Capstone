{
    "nbformat_minor": 1, 
    "cells": [
        {
            "source": "# Where should I live in Los Angeles", 
            "cell_type": "markdown", 
            "metadata": {
                "collapsed": true
            }
        }, 
        {
            "source": "## Introduction\n\nIt is a truth universally acknowledged that most conversations in 21st century America are about where best to live in one's current city. This project seeks to simplify the process by analyzing a range of data for a specific city to identify neighborhood characteristics to create neighborhoods of similar clusters as well as decision tree to help someone moving to a new house or apartment in the Los Angeles area. If this is successful, the system will be expanded into other cit", 
            "cell_type": "markdown", 
            "metadata": {}
        }, 
        {
            "source": "## Data\n\nThe system will be using:\n1. Foursquare for local venue. We may add yelp's api to expand the data set, based on price and availability.\n2. Restaurant health reports from lacity.org.\n3. Average home value by zip code from http://www.laalmanac.com/economy/ec37b.php\n4. Libraries and cultural locations in each zip code from data.lacity.org\n\n", 
            "cell_type": "markdown", 
            "metadata": {}
        }
    ], 
    "metadata": {
        "kernelspec": {
            "display_name": "Python 3.6", 
            "name": "python3", 
            "language": "python"
        }, 
        "language_info": {
            "mimetype": "text/x-python", 
            "nbconvert_exporter": "python", 
            "version": "3.6.8", 
            "name": "python", 
            "pygments_lexer": "ipython3", 
            "file_extension": ".py", 
            "codemirror_mode": {
                "version": 3, 
                "name": "ipython"
            }
        }
    }, 
    "nbformat": 4
}